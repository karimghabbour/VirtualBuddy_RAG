{
  "nbformat": 4,
  "nbformat_minor": 0,
  "metadata": {
    "colab": {
      "provenance": [],
      "authorship_tag": "ABX9TyPXcIUIY9ZT86yN1EjmR+11",
      "include_colab_link": true
    },
    "kernelspec": {
      "name": "python3",
      "display_name": "Python 3"
    },
    "language_info": {
      "name": "python"
    }
  },
  "cells": [
    {
      "cell_type": "markdown",
      "metadata": {
        "id": "view-in-github",
        "colab_type": "text"
      },
      "source": [
        "<a href=\"https://colab.research.google.com/github/karimghabbour/VirtualBuddy_RAG/blob/main/HPE_RAG.ipynb\" target=\"_parent\"><img src=\"https://colab.research.google.com/assets/colab-badge.svg\" alt=\"Open In Colab\"/></a>"
      ]
    },
    {
      "cell_type": "code",
      "execution_count": 1,
      "metadata": {
        "colab": {
          "base_uri": "https://localhost:8080/"
        },
        "id": "qvA5s08WnwEM",
        "outputId": "f49c0f4b-f163-4b3d-c0fc-479053277ad1"
      },
      "outputs": [
        {
          "output_type": "stream",
          "name": "stdout",
          "text": [
            "10\n"
          ]
        }
      ],
      "source": [
        "#Testing connection\n",
        "\n",
        "#is this the same?\n",
        "\n",
        "testing = 5 + 5\n",
        "print(testing)"
      ]
    },
    {
      "cell_type": "code",
      "source": [
        "!pip install openai\n",
        "import os\n",
        "import openai\n",
        "from google.colab import userdata\n",
        "openai_api_key = userdata.get('openai_api_key')\n",
        "openai.api_key = openai_api_key\n",
        "!pip install llama-index\n",
        "\n",
        "from google.colab import drive\n",
        "drive.mount('/content/drive')\n",
        "\n",
        "from llama_index.core import SimpleDirectoryReader\n",
        "\n",
        "#Path to the PDF inside Google Drive\n",
        "documents = SimpleDirectoryReader(\n",
        "    input_files=[\"/content/drive/My Drive/BasicRAG/HPE Tech Care Service-a00108652enw.pdf\"]\n",
        ").load_data()\n"
      ],
      "metadata": {
        "id": "12lCV_djRCZi"
      },
      "execution_count": null,
      "outputs": []
    }
  ]
}