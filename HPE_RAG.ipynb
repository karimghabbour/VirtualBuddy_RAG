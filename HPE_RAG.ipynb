{
  "nbformat": 4,
  "nbformat_minor": 0,
  "metadata": {
    "colab": {
      "provenance": [],
      "authorship_tag": "ABX9TyN/ZGA71VVoZQAqqi/iOUPm",
      "include_colab_link": true
    },
    "kernelspec": {
      "name": "python3",
      "display_name": "Python 3"
    },
    "language_info": {
      "name": "python"
    }
  },
  "cells": [
    {
      "cell_type": "markdown",
      "metadata": {
        "id": "view-in-github",
        "colab_type": "text"
      },
      "source": [
        "<a href=\"https://colab.research.google.com/github/karimghabbour/VirtualBuddy_RAG/blob/main/HPE_RAG.ipynb\" target=\"_parent\"><img src=\"https://colab.research.google.com/assets/colab-badge.svg\" alt=\"Open In Colab\"/></a>"
      ]
    },
    {
      "cell_type": "markdown",
      "source": [
        "#Step 1: Download GPT4ALL Model"
      ],
      "metadata": {
        "id": "p8KlmSIO4apQ"
      }
    },
    {
      "cell_type": "code",
      "source": [
        "!wget https://gpt4all.io/models/ggml-gpt4all-j-v1.3-groovy.bin"
      ],
      "metadata": {
        "id": "qRsV-naUyxf-",
        "outputId": "eb75f1cf-05f6-4e99-ce2f-1e78289334e3",
        "colab": {
          "base_uri": "https://localhost:8080/"
        }
      },
      "execution_count": 1,
      "outputs": [
        {
          "output_type": "stream",
          "name": "stdout",
          "text": [
            "--2024-03-25 08:49:57--  https://gpt4all.io/models/ggml-gpt4all-j-v1.3-groovy.bin\n",
            "Resolving gpt4all.io (gpt4all.io)... 104.26.0.159, 104.26.1.159, 172.67.71.169, ...\n",
            "Connecting to gpt4all.io (gpt4all.io)|104.26.0.159|:443... connected.\n",
            "HTTP request sent, awaiting response... 200 OK\n",
            "Length: 3785248281 (3.5G)\n",
            "Saving to: ‘ggml-gpt4all-j-v1.3-groovy.bin’\n",
            "\n",
            "ggml-gpt4all-j-v1.3 100%[===================>]   3.52G  72.0MB/s    in 62s     \n",
            "\n",
            "2024-03-25 08:51:02 (57.9 MB/s) - ‘ggml-gpt4all-j-v1.3-groovy.bin’ saved [3785248281/3785248281]\n",
            "\n"
          ]
        }
      ]
    },
    {
      "cell_type": "markdown",
      "source": [
        "#Step 2:Download Documents to be Accessed"
      ],
      "metadata": {
        "id": "P1uxdZjm5q_f"
      }
    },
    {
      "cell_type": "code",
      "source": [
        "#Mount Google Drive For Access\n",
        "from google.colab import drive\n",
        "drive.mount('/content/drive')\n",
        "\n",
        "# Define the base path to the folder containing your PDFs\n",
        "base_path = '/content/drive/My Drive/BasicRAG/'\n",
        "\n",
        "# List of your PDF files\n",
        "pdf_files = [\n",
        "    'Resources inside HPE Barcelona Hub.pdf',\n",
        "    'uncover-hidden-insights-create-business-advantage.pdf',\n",
        "    'HPE GreenLake FAQ for technology innovators frequently asked questions-a00107144enw.pdf',\n",
        "    'HPE Tech Care Service-a00108652enw.pdf'\n",
        "]\n",
        "\n",
        "# Full paths to the PDF files\n",
        "pdf_paths = [base_path + pdf for pdf in pdf_files]\n",
        "\n"
      ],
      "metadata": {
        "id": "wJKs66ZLyzDa",
        "outputId": "f415ff2b-0686-4d21-af04-b93cbbe85493",
        "colab": {
          "base_uri": "https://localhost:8080/"
        }
      },
      "execution_count": 4,
      "outputs": [
        {
          "output_type": "stream",
          "name": "stdout",
          "text": [
            "Drive already mounted at /content/drive; to attempt to forcibly remount, call drive.mount(\"/content/drive\", force_remount=True).\n"
          ]
        }
      ]
    },
    {
      "cell_type": "code",
      "source": [],
      "metadata": {
        "id": "lOEwrw8z5zbk"
      },
      "execution_count": null,
      "outputs": []
    }
  ]
}