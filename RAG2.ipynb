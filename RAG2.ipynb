{
  "nbformat": 4,
  "nbformat_minor": 0,
  "metadata": {
    "colab": {
      "provenance": [],
      "authorship_tag": "ABX9TyNGpyG4brXOTFQM3WnIwrro",
      "include_colab_link": true
    },
    "kernelspec": {
      "name": "python3",
      "display_name": "Python 3"
    },
    "language_info": {
      "name": "python"
    }
  },
  "cells": [
    {
      "cell_type": "markdown",
      "metadata": {
        "id": "view-in-github",
        "colab_type": "text"
      },
      "source": [
        "<a href=\"https://colab.research.google.com/github/karimghabbour/VirtualBuddy_RAG/blob/main/RAG2.ipynb\" target=\"_parent\"><img src=\"https://colab.research.google.com/assets/colab-badge.svg\" alt=\"Open In Colab\"/></a>"
      ]
    },
    {
      "cell_type": "code",
      "execution_count": 1,
      "metadata": {
        "id": "aZpVdiIfCRlk"
      },
      "outputs": [],
      "source": [
        "##this is a new file for the custom gpt to be able to find out whats in here - when I ask you whats in the new file you should be able to give me the answer to five plus five"
      ]
    },
    {
      "cell_type": "code",
      "source": [],
      "metadata": {
        "id": "jLm4An3FCT7g"
      },
      "execution_count": null,
      "outputs": []
    }
  ]
}